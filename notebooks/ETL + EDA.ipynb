{
 "cells": [
  {
   "cell_type": "code",
   "execution_count": 1,
   "id": "8f5e94f4-8a75-4b98-8240-ec212269000c",
   "metadata": {},
   "outputs": [],
   "source": [
    "%load_ext autoreload\n",
    "%autoreload 2"
   ]
  },
  {
   "cell_type": "code",
   "execution_count": 2,
   "id": "630f1cf9-79de-4478-898c-99407490328b",
   "metadata": {},
   "outputs": [],
   "source": [
    "from etl.nyc_311_api import NYC311RequestAPI\n",
    "from etl.db import NYC311Database\n",
    "from etl import utils\n",
    "import pandas as pd\n",
    "import plotly.express as px\n",
    "import plotly.io as pio\n",
    "from pathlib import Path\n",
    "from statsmodels.graphics.tsaplots import plot_acf\n",
    "import matplotlib.pyplot as plt\n",
    "from scipy.stats import zscore\n",
    "from eda import classification_model\n",
    "from sklearn.linear_model import LogisticRegression\n",
    "from sklearn.metrics import classification_report, roc_auc_score\n",
    "from sklearn.model_selection import train_test_split\n",
    "from sklearn.metrics import precision_recall_curve\n",
    "import numpy as np\n",
    "import warnings\n",
    "warnings.filterwarnings(\"ignore\")\n",
    "\n",
    "\n",
    "pio.renderers.default = \"notebook_connected\""
   ]
  },
  {
   "cell_type": "markdown",
   "id": "a3b756e8-88f4-4555-82cd-9f2e4e52790e",
   "metadata": {},
   "source": [
    "<h5 style=\"border: 2px solid #333; padding: 8px; display: inline-block;color:red\">Note: the markdown file (filename) contains further explanations of the implementation choices</h5>"
   ]
  },
  {
   "cell_type": "markdown",
   "id": "1db6631c-8f16-4b09-a6cf-69a6b5b49914",
   "metadata": {},
   "source": [
    "<h1 style=\"background-color:#d1cfcf;padding-top:20px;padding-bottom:20px;padding-left:5px\">Data processing</h1>"
   ]
  },
  {
   "cell_type": "markdown",
   "id": "230aef71-a0f3-4e0a-ae32-bf0127049c04",
   "metadata": {},
   "source": [
    "### 1. Request data from API\n",
    "- The class `NYC311RequestAPI` contains methods which makes calls to the 311 API\n",
    "- To save time in running this analysis, historical data has already been saved to parquets paritioned by borough\n",
    "- The method `get_and_save_data()` is defaulted to request only the latest data which is not already stored by the time this notebook is run\n",
    "- The previous method sends 1 synchronous request to the 311 API and limits each request to 50,000 rows to avoid throttling\n",
    "- The class takes an optional API token (hardcoded since this is a public API) which improves runtime by preventing throttling\n",
    "- If setting the parameter `query_latest_data` to `False` in `get_and_save_data()`, the previous step will delete the existing folder and re-request all existing data (not recommended)."
   ]
  },
  {
   "cell_type": "code",
   "execution_count": 3,
   "id": "6eab3e52-e48e-45c6-a48c-e8ba81de52ad",
   "metadata": {},
   "outputs": [],
   "source": [
    "api_client = NYC311RequestAPI(url = \"https://data.cityofnewyork.us/resource/erm2-nwe9.json\", api_token=\"Z3AKbMSPWFSZ38u17DoOwsVQT\")"
   ]
  },
  {
   "cell_type": "code",
   "execution_count": 5,
   "id": "20b495a0-92eb-4808-8aca-f2b325639903",
   "metadata": {},
   "outputs": [
    {
     "name": "stdout",
     "output_type": "stream",
     "text": [
      "Creating DB connection to check latest data\n"
     ]
    },
    {
     "data": {
      "application/vnd.jupyter.widget-view+json": {
       "model_id": "c5189cd00cd24f479070906353b8cf71",
       "version_major": 2,
       "version_minor": 0
      },
      "text/plain": [
       "FloatProgress(value=0.0, layout=Layout(width='auto'), style=ProgressStyle(bar_color='black'))"
      ]
     },
     "metadata": {},
     "output_type": "display_data"
    },
    {
     "name": "stdout",
     "output_type": "stream",
     "text": [
      "Starting data request from 2025-10-05T02:56:15.000 to 2025-10-05T23:44:22.517\n",
      "No data returned for chunk #1\n",
      "Data querying finished\n"
     ]
    }
   ],
   "source": [
    "api_client.get_and_save_data(query_latest_data=True)"
   ]
  },
  {
   "cell_type": "markdown",
   "id": "9a8cfec7-afca-4297-a8fc-f9edc0d29dda",
   "metadata": {},
   "source": [
    "### "
   ]
  },
  {
   "cell_type": "markdown",
   "id": "47c63136-337b-40f5-83b6-6a593662df73",
   "metadata": {},
   "source": [
    "### 2. Build DuckDB with request data\n",
    "- The class `NYC311Database` creates the databse at initialization and allows for refreshing. It contains methods for inspecting and cleaning the data as well as returning queries as a data frame (`query_data_as_df`)\n",
    "- After initializing the database called <b>nyc311</b>, the resulting queries are more efficient"
   ]
  },
  {
   "cell_type": "code",
   "execution_count": null,
   "id": "b41b67cd-a125-468d-b993-0b8414acda5f",
   "metadata": {},
   "outputs": [
    {
     "data": {
      "application/vnd.jupyter.widget-view+json": {
       "model_id": "7369b97b92cf49929d0959ec585715f2",
       "version_major": 2,
       "version_minor": 0
      },
      "text/plain": [
       "FloatProgress(value=0.0, layout=Layout(width='auto'), style=ProgressStyle(bar_color='black'))"
      ]
     },
     "metadata": {},
     "output_type": "display_data"
    }
   ],
   "source": [
    "requests_db = NYC311Database()"
   ]
  },
  {
   "cell_type": "markdown",
   "id": "07ad709f-ecb3-4a89-8a81-2909f7a403e0",
   "metadata": {},
   "source": [
    "### "
   ]
  },
  {
   "cell_type": "markdown",
   "id": "01d9b37d-92cc-4823-9738-fe14d4e14938",
   "metadata": {},
   "source": [
    "<h1 style=\"background-color:#d1cfcf;padding-top:20px;padding-bottom:20px;padding-left:5px\">EDA - cleaning</h1>"
   ]
  },
  {
   "cell_type": "markdown",
   "id": "10d67047-3d78-4670-a1cd-6b24b5a128fb",
   "metadata": {},
   "source": [
    "### 1. Initial data examination\n",
    "- This section runs some simple sanity checks to ensure the data has been refreshed and requested properly. Examples:\n",
    "  - No duplicate unique request IDs + dates\n",
    "  - Maximum date is equal to current date of notebook run\n",
    "  - Minimum date is October 2010 (date of creation as stated <a href=\"https://data.cityofnewyork.us/Social-Services/311-Service-Requests-from-2010-to-Present/erm2-nwe9/about_data\">here</a>)\n",
    "  - All 5 boroughs existing in db\n",
    "<b>GOAL:</b> get an initial understanding of the available data and potential issues needing to be cleaned"
   ]
  },
  {
   "cell_type": "markdown",
   "id": "52eb3974-40f1-4551-b82c-12159313fba9",
   "metadata": {},
   "source": [
    "<b style=\"border-bottom: 2px solid #333; padding: 2px; display: inline-block;\"> Minimum and maximum dates in database </b>\n",
    "- These dates are as we'd expect"
   ]
  },
  {
   "cell_type": "code",
   "execution_count": null,
   "id": "0d0aa59d-6cd6-42e2-b5ff-eec4d8ddb1cb",
   "metadata": {},
   "outputs": [],
   "source": [
    "min_max_dates = requests_db.query_data_as_df(\"SELECT MAX(created_date) as max_created_date, MIN(created_date) as min_created_date from nyc311\")\n",
    "min_max_dates"
   ]
  },
  {
   "cell_type": "markdown",
   "id": "73b26970-34cb-4b18-a194-3e4fb84d4297",
   "metadata": {},
   "source": [
    "<b style=\"border-bottom: 2px solid #333; padding: 2px; display: inline-block;\"> Columns and their initial data types </b>\n",
    "- All datatypes are defaulted as strings (varchar) so these will be appropriately transformed in the following steps"
   ]
  },
  {
   "cell_type": "code",
   "execution_count": null,
   "id": "83d411f0-b01b-4f77-828b-043b4d42c169",
   "metadata": {
    "scrolled": true
   },
   "outputs": [],
   "source": [
    "columns_and_types = requests_db.query_data_as_df(\"DESCRIBE nyc311\")\n",
    "columns_and_types"
   ]
  },
  {
   "cell_type": "markdown",
   "id": "0ac241b6-f23f-43e0-9e75-8a03a51b8912",
   "metadata": {},
   "source": [
    "<b style=\"border-bottom: 2px solid #333; padding: 2px; display: inline-block;\"> Overall count of records </b>\n",
    "- There are > 40,000,000 records with 40 columns\n",
    "- This is a significant data size and will require the data to be sliced intentionally in the analysis"
   ]
  },
  {
   "cell_type": "code",
   "execution_count": null,
   "id": "fdf04801-c4cf-4902-9b2f-c3af37fcc75d",
   "metadata": {},
   "outputs": [],
   "source": [
    "row_count = requests_db.query_data_as_df(\"SELECT COUNT(*) as row_count FROM nyc311\")\n",
    "row_count"
   ]
  },
  {
   "cell_type": "markdown",
   "id": "0733c79c-0749-459a-828b-6721fb457c2d",
   "metadata": {},
   "source": [
    "<b style=\"border-bottom: 2px solid #333; padding: 2px; display: inline-block;\"> Percentage of null values per column  </b>\n",
    "- The columns with the highest % of null values don't appear to be immediately useful or necessary for this report (bridge data, landmarks, street intersection)\n",
    "- There are no missing values (at first glance) for borough, unique_key, complaint_type, or agency which are signficiant in determining where to allocate resources \n",
    "- There is a moderate amount (5-10%) of missing granular location data like latitude/longitude, zip code, address, location type which will be useful in prediction. The data cleaning step will dive further into these missing values\n",
    "- In further steps, I will also assess the accuracy of the non-null data"
   ]
  },
  {
   "cell_type": "code",
   "execution_count": null,
   "id": "578769f8-dc5d-4f24-b7d8-6a15f9bff1b2",
   "metadata": {
    "scrolled": true
   },
   "outputs": [],
   "source": [
    "data_columns = columns_and_types['column_name'].tolist()\n",
    "total_row_count = row_count.iloc[0].item()\n",
    "\n",
    "null_pct = {}\n",
    "for col in data_columns:\n",
    "    col_nulls = requests_db.query_data_as_df(\"SELECT COUNT(*) as count_nulls FROM nyc311 WHERE {} IS NULL\".format(col))\n",
    "    null_pct[col] = (col_nulls['count_nulls'].iloc[0].item() / total_row_count) * 100\n",
    "\n",
    "pct_null_values_df = pd.DataFrame().from_records(null_pct, index=['percentage_null_values']).T.round(2).sort_values(by='percentage_null_values', ascending=False)\n",
    "pct_null_values_df"
   ]
  },
  {
   "cell_type": "markdown",
   "id": "a5ec1491-affe-4999-82ef-16d0855eae60",
   "metadata": {},
   "source": [
    "<b style=\"border-bottom: 2px solid #333; padding: 2px; display: inline-block;\"> Duplicate unique keys </b>\n",
    "- There are >96,000 duplicate unique keys, so these will be removed"
   ]
  },
  {
   "cell_type": "code",
   "execution_count": null,
   "id": "6e7f03f9-aa66-4462-9f37-1d99d1ba0d4f",
   "metadata": {},
   "outputs": [],
   "source": [
    "count_duplicates = requests_db.query_data_as_df('''\n",
    "WITH key_count AS (\n",
    "    SELECT unique_key, COUNT(*) as unique_key_count FROM nyc311\n",
    "    GROUP BY unique_key\n",
    ")\n",
    "SELECT COUNT(*) as count_duplicate_keys from key_count\n",
    "WHERE unique_key_count > 1\n",
    "''')\n",
    "count_duplicates"
   ]
  },
  {
   "cell_type": "markdown",
   "id": "92f41060-554f-4e2e-a1ee-29fb0f32529a",
   "metadata": {
    "jp-MarkdownHeadingCollapsed": true
   },
   "source": [
    "<b style=\"border-bottom: 2px solid #333; padding: 2px; display: inline-block;\"> Borough values </b>\n",
    "- The borough datapoint is the minimum granularity needed for classification of resources\n",
    "- For the 5 boroughs (Bronx, Brooklyn, Queens, Staten Island, Manhattan), there are no values needing standardization\n",
    "- The hive default partition indicates there was no borough when saving the parquet\n",
    "- The Unspecified borough indicates this was directly entered in the data\n",
    "- In both of the previous cases, we will need to replace these values using other location data"
   ]
  },
  {
   "cell_type": "code",
   "execution_count": null,
   "id": "6683dd5c-89b9-4f95-b4d0-64513fe0ae09",
   "metadata": {},
   "outputs": [],
   "source": [
    "borough_counts = requests_db.query_data_as_df('''\n",
    "    SELECT borough, COUNT(*) AS count_records FROM nyc311\n",
    "    GROUP BY borough \n",
    "    ORDER BY count_records DESC\n",
    "''')\n",
    "borough_counts"
   ]
  },
  {
   "cell_type": "markdown",
   "id": "94a0250d-6fe3-4746-8e08-ee249490fb84",
   "metadata": {},
   "source": [
    "<b style=\"border-bottom: 2px solid #333; padding: 2px; display: inline-block;\"> Complaint types </b>\n",
    "- Complaint types are the core of this report, so it's important these values are standardized and accurate\n",
    "- There are over 500 different complaint types, those with lower counts are obviously incorrect\n",
    "- There are some complaints which are very similar in nature and could be grouped together (e.g. HEAT/HOT WATER and HEAT)"
   ]
  },
  {
   "cell_type": "code",
   "execution_count": null,
   "id": "52333f27-7595-4582-812d-18a94633ad6f",
   "metadata": {
    "scrolled": true
   },
   "outputs": [],
   "source": [
    "complaint_types_counts = requests_db.query_data_as_df('''\n",
    "    SELECT complaint_type, COUNT(*) AS count_records FROM nyc311\n",
    "    GROUP BY complaint_type \n",
    "    ORDER BY count_records DESC\n",
    "''')\n",
    "with pd.option_context('display.max_rows', None, 'display.max_columns', None):\n",
    "    display(complaint_types_counts)"
   ]
  },
  {
   "cell_type": "markdown",
   "id": "170a46e9-484f-4450-ae6c-2eb5d87d234c",
   "metadata": {},
   "source": [
    "### "
   ]
  },
  {
   "cell_type": "markdown",
   "id": "07e8cbd1-1471-420b-bce7-fd0360742d2d",
   "metadata": {},
   "source": [
    "### 2. Clean data\n",
    "Based on some of the previous exploration, this section handles cleaning the nyc311 database"
   ]
  },
  {
   "cell_type": "markdown",
   "id": "23b65701-e971-45a3-8009-a8b5352f85ca",
   "metadata": {},
   "source": [
    "`alter_datatypes()`:\n",
    "- String fields: trim whitespaces\n",
    "- Numeric fields: convert to doubles\n",
    "- Date fields: convert to timestamps"
   ]
  },
  {
   "cell_type": "code",
   "execution_count": null,
   "id": "7e6dfe4e-e631-4c7d-a3c4-df5d9cef0061",
   "metadata": {},
   "outputs": [],
   "source": [
    "requests_db.alter_datatypes()"
   ]
  },
  {
   "cell_type": "code",
   "execution_count": null,
   "id": "88c85066-9d9f-45ee-b24a-ede8d4a8e284",
   "metadata": {
    "scrolled": true
   },
   "outputs": [],
   "source": [
    "columns_and_types = requests_db.query_data_as_df(\"DESCRIBE nyc311\")\n",
    "columns_and_types"
   ]
  },
  {
   "cell_type": "markdown",
   "id": "8cdf6469-caaf-44d4-b330-a81de7828200",
   "metadata": {},
   "source": [
    "Ensure there are no missing columns in the modified table: "
   ]
  },
  {
   "cell_type": "code",
   "execution_count": null,
   "id": "9ccefdd6-0f20-46d4-9409-6b8a6c2c5fbf",
   "metadata": {},
   "outputs": [],
   "source": [
    "[i for i in data_columns if i not in columns_and_types.column_name.tolist()]"
   ]
  },
  {
   "cell_type": "markdown",
   "id": "7f1f5f7f-11f8-4bf6-8097-64cd054c1f1a",
   "metadata": {},
   "source": [
    "`remove_unique_key_duplicates()`\n",
    "- Identifies duplicate unique keys and keeps only the latest entry by created_date"
   ]
  },
  {
   "cell_type": "code",
   "execution_count": null,
   "id": "fc8852e1-05ce-4751-96d0-0a7ea3855534",
   "metadata": {},
   "outputs": [],
   "source": [
    "requests_db.remove_unique_key_duplicates()"
   ]
  },
  {
   "cell_type": "markdown",
   "id": "b70a735a-d2ad-4ced-b789-c693d6297f5e",
   "metadata": {},
   "source": [
    "Validate that there are no duplicates remaining:"
   ]
  },
  {
   "cell_type": "code",
   "execution_count": null,
   "id": "2bfcd9b9-17c2-4fd9-91d2-c644e4c8d998",
   "metadata": {},
   "outputs": [],
   "source": [
    "count_duplicates = requests_db.query_data_as_df('''\n",
    "WITH key_count AS (\n",
    "    SELECT unique_key, COUNT(*) as unique_key_count FROM nyc311\n",
    "    GROUP BY unique_key\n",
    ")\n",
    "SELECT COUNT(*) as count_duplicate_keys from key_count\n",
    "WHERE unique_key_count > 1\n",
    "''')\n",
    "count_duplicates"
   ]
  },
  {
   "cell_type": "markdown",
   "id": "2963de90-c5a8-48ae-b190-7d18a6f88ee1",
   "metadata": {},
   "source": [
    "`impute_missing_borough()` and `standardize_zip_codes()`\n",
    "- First replace the default hive partition and Unspecified with Null\n",
    "- Impute missing boroughs by matching on zip code. If there are two boroughs found, the value will not be imputed so to not improperly fill the data\n",
    "- In order to impute the boroughs, the zip codes need to be standardized first as there are many non-numeric values and values which don't align with the proper format for NYC zipcodes (either 5 digits or XXXXX-XXXX) "
   ]
  },
  {
   "cell_type": "code",
   "execution_count": null,
   "id": "615fbd45-c97a-4740-90a4-26c6ee00907f",
   "metadata": {
    "scrolled": true
   },
   "outputs": [],
   "source": [
    "zips = requests_db.query_data_as_df('''\n",
    "SELECT DISTINCT(incident_zip) \n",
    "FROM nyc311\n",
    "ORDER BY incident_zip DESC;''')\n",
    "\n",
    "with pd.option_context('display.max_rows', None, 'display.max_columns', None):\n",
    "    display(zips)"
   ]
  },
  {
   "cell_type": "code",
   "execution_count": null,
   "id": "c9abe333-136b-4fb6-9155-a466812c89fd",
   "metadata": {},
   "outputs": [],
   "source": [
    "requests_db.standardize_zip_codes()"
   ]
  },
  {
   "cell_type": "code",
   "execution_count": null,
   "id": "47440daf-e714-4565-b93f-e362466ead33",
   "metadata": {
    "scrolled": true
   },
   "outputs": [],
   "source": [
    "zips = requests_db.query_data_as_df('''\n",
    "SELECT DISTINCT(incident_zip) \n",
    "FROM nyc311\n",
    "ORDER BY incident_zip DESC;''')\n",
    "\n",
    "with pd.option_context('display.max_rows', None, 'display.max_columns', None):\n",
    "    display(zips)"
   ]
  },
  {
   "cell_type": "code",
   "execution_count": null,
   "id": "727982a6-8699-4363-8e57-894b8b50f794",
   "metadata": {},
   "outputs": [],
   "source": [
    "requests_db.update_values_to_null('borough',('__HIVE_DEFAULT_PARTITION__','UNSPECIFIED'))\n",
    "requests_db.impute_missing_boroughs()"
   ]
  },
  {
   "cell_type": "code",
   "execution_count": null,
   "id": "e434dfd0-29fb-476b-999a-c042caefcfb2",
   "metadata": {},
   "outputs": [],
   "source": [
    "requests_db.query_data_as_df('''\n",
    "SELECT COUNT(*) * 100.0 / (SELECT COUNT(*) FROM nyc311) AS percent_null_borough_vals\n",
    "FROM nyc311\n",
    "WHERE borough IS NULL;''').round(2)"
   ]
  },
  {
   "cell_type": "code",
   "execution_count": null,
   "id": "2c491569-0b5b-45ce-91c9-605bfa751161",
   "metadata": {},
   "outputs": [],
   "source": [
    "requests_db.drop_nulls('borough')"
   ]
  },
  {
   "cell_type": "markdown",
   "id": "0463fbee-b3f1-4f8e-88a2-c9818a5cdfe5",
   "metadata": {},
   "source": [
    "`standardize_complaint_types()`\n",
    "- Use regex to remove values not a-z or A-Z\n",
    "- Remove complaint types with counts in the bottom 25th percentile (gets rid of nonsensical complaints and complaints which are not significant enough to allocate resources)\n",
    "- Group similar complaints together to get a more accurate view of counts later\n",
    "  - I apply a clustering technique (agglomerative clustering) which groups the complaint_type values together\n",
    "  - Ideally, a model would be trained on this specific data to have increased accuracy\n",
    "  - The goal of this clustering is to simply reduce the amount of time needed to manually map similar types\n",
    "  - Some remapping is needed for incorrect groupings\n",
    "- The following code saves a yaml of the granular complaint types to their broader groups (in /config/config.yaml). This is used to create a new column in the database for the broader complaint groups"
   ]
  },
  {
   "cell_type": "code",
   "execution_count": null,
   "id": "4e2b0991-edc8-44dc-81bf-aa93fc83d449",
   "metadata": {},
   "outputs": [],
   "source": [
    "requests_db.standardize_complaint_column()"
   ]
  },
  {
   "cell_type": "code",
   "execution_count": null,
   "id": "ebcaa595-db1e-4753-8ebb-a6a34b6ce15b",
   "metadata": {
    "scrolled": true
   },
   "outputs": [],
   "source": [
    "complaint_types_counts = requests_db.query_data_as_df('''\n",
    "    SELECT complaint_type, COUNT(*) AS count_records FROM nyc311\n",
    "    GROUP BY complaint_type \n",
    "    ORDER BY count_records DESC\n",
    "''')\n",
    "with pd.option_context('display.max_rows', None, 'display.max_columns', None):\n",
    "    display(complaint_types_counts)"
   ]
  },
  {
   "cell_type": "code",
   "execution_count": null,
   "id": "e16b7296-5e7c-4617-afb2-3052306d8045",
   "metadata": {
    "scrolled": true
   },
   "outputs": [],
   "source": [
    "# get mapping dict, save to initial yaml, update groups and join to table\n",
    "complaint_type_mapping_dict = utils.cluster_text_values(complaint_types_counts, 'complaint_type')\n",
    "utils.save_yaml(complaint_type_mapping_dict, 'config/config.yaml', 'complaint_groups')\n",
    "requests_db.group_complaint_types()"
   ]
  },
  {
   "cell_type": "markdown",
   "id": "6e3319d5-4995-408f-aa0b-5f446eac1212",
   "metadata": {},
   "source": [
    "<b>Number of complaint types before and after grouping on complaints (only those with sufficient counts):</b>"
   ]
  },
  {
   "cell_type": "code",
   "execution_count": null,
   "id": "e64c3f5c-e963-4886-af0c-1692fc372b15",
   "metadata": {},
   "outputs": [],
   "source": [
    "requests_db.connection.execute('''\n",
    "SELECT COUNT(DISTINCT(complaint_type)) as count_new_complaints, COUNT(DISTINCT(complaint_type_raw)) as count_raw_complaints\n",
    "FROM nyc311\n",
    "''').df()"
   ]
  },
  {
   "cell_type": "markdown",
   "id": "7fda4864-fa04-40df-95c7-31bb1cf5b1e0",
   "metadata": {},
   "source": [
    "<b>The following table and visualization demonstrates how some of the complaints are mapped</b>"
   ]
  },
  {
   "cell_type": "code",
   "execution_count": null,
   "id": "907668ff-894f-448e-8eb2-44bb4e1f57cb",
   "metadata": {
    "scrolled": true
   },
   "outputs": [],
   "source": [
    "mapped_complaints_final = requests_db.connection.execute('''\n",
    "SELECT complaint_type, complaint_type_raw, count(complaint_type) as count_raw\n",
    "FROM nyc311\n",
    "group by complaint_type, complaint_type_raw\n",
    "''').df()\n",
    "mapped_complaints_final.sort_values(by='complaint_type', ascending=False).head(10)"
   ]
  },
  {
   "cell_type": "code",
   "execution_count": null,
   "id": "0afa9939-9bbd-4cdc-8643-5403002688dd",
   "metadata": {},
   "outputs": [],
   "source": [
    "avg_count_per_group = mapped_complaints_final.groupby('complaint_type').mean(numeric_only=True)\n",
    "sufficient_counts = avg_count_per_group[avg_count_per_group.count_raw > avg_count_per_group.describe().loc['75%'].item()]"
   ]
  },
  {
   "cell_type": "code",
   "execution_count": null,
   "id": "a63eb184-07ea-4007-9635-b25e44c848ec",
   "metadata": {},
   "outputs": [],
   "source": [
    "fig = px.treemap(\n",
    "    mapped_complaints_final[mapped_complaints_final.complaint_type.isin(sufficient_counts.index)],\n",
    "    path=['complaint_type', 'complaint_type_raw'],\n",
    "    values='count_raw',\n",
    "    title=\"NYC 311 Complaint Types Mapping\"\n",
    ")\n",
    "fig"
   ]
  },
  {
   "cell_type": "markdown",
   "id": "c6f29b67-de61-45ab-8ab2-bd11056fad53",
   "metadata": {},
   "source": [
    "<h1 style=\"background-color:#d1cfcf;padding-top:20px;padding-bottom:20px;padding-left:5px\">EDA - high level visualizations, patterns, features </h1>"
   ]
  },
  {
   "cell_type": "markdown",
   "id": "05cffbe8-0e60-41bc-88b2-b89767b4924c",
   "metadata": {},
   "source": [
    "- The below code adds year, month, and day to table\n",
    "- Pulls the borough level population data from another NYC API (data.cityofnewyork.us/resource/ph5g-sr3v) and joins to the main table to get population level statistics"
   ]
  },
  {
   "cell_type": "code",
   "execution_count": null,
   "id": "92f5d488-d772-4181-8430-8d2724febc49",
   "metadata": {},
   "outputs": [],
   "source": [
    "requests_db.add_granular_datequery_columns()\n",
    "borough_population_df = utils.get_borough_population_data()\n",
    "requests_db.create_table_from_df(borough_population_df, 'borough_population')"
   ]
  },
  {
   "cell_type": "code",
   "execution_count": null,
   "id": "0c790e00-42bd-418a-9ca6-7a3dd35b3703",
   "metadata": {
    "scrolled": true
   },
   "outputs": [],
   "source": [
    "requests_db.join_with_population_data()"
   ]
  },
  {
   "cell_type": "markdown",
   "id": "8a7725b8-c273-4bbe-9493-f3f61d748b82",
   "metadata": {},
   "source": [
    "### Top complaints across entire set\n",
    "- The most complaints across all boroughs and years is by far <b>noise complaints</b>"
   ]
  },
  {
   "cell_type": "code",
   "execution_count": null,
   "id": "76435898-915d-49f2-9cf3-eed9820a1c19",
   "metadata": {},
   "outputs": [],
   "source": [
    "top_complaints_total = requests_db.query_data_as_df('''\n",
    "WITH complaint_counts AS (\n",
    "    SELECT \n",
    "        complaint_type,\n",
    "        COUNT(*) AS complaint_count\n",
    "    FROM nyc311\n",
    "    GROUP BY complaint_type\n",
    ")\n",
    "SELECT *\n",
    "FROM complaint_counts\n",
    "QUALIFY ROW_NUMBER() OVER (\n",
    "    ORDER BY complaint_count DESC\n",
    ") <= 5;\n",
    "\n",
    "\n",
    "''')\n",
    "top_complaints_total"
   ]
  },
  {
   "cell_type": "markdown",
   "id": "a3a8efd7-b408-4727-896b-029eb6767427",
   "metadata": {},
   "source": [
    "### Top complaints by year\n",
    "- The following table shows the top 2 complaints per year\n",
    "- It's clear that noise is an issue regardless of year"
   ]
  },
  {
   "cell_type": "code",
   "execution_count": null,
   "id": "b573fab7-5882-4726-ad33-6166d280a1c3",
   "metadata": {
    "scrolled": true
   },
   "outputs": [],
   "source": [
    "top_complaints_by_year = requests_db.query_data_as_df('''\n",
    "WITH complaint_counts AS (\n",
    "    SELECT \n",
    "        complaint_type,\n",
    "        year,\n",
    "        COUNT(*) AS complaint_count\n",
    "    FROM nyc311\n",
    "    GROUP BY complaint_type, year\n",
    ")\n",
    "SELECT *\n",
    "FROM complaint_counts\n",
    "QUALIFY ROW_NUMBER() OVER (\n",
    "    PARTITION BY year\n",
    "    ORDER BY complaint_count DESC\n",
    ") <= 2\n",
    "ORDER BY year, complaint_count DESC;\n",
    "''')\n",
    "top_complaints_by_year"
   ]
  },
  {
   "cell_type": "markdown",
   "id": "8f037ed3-dcde-4f6d-a92e-8068d63f80a5",
   "metadata": {},
   "source": [
    "### Proportion of total complaints by borough \n",
    "- In order to identify which location has the most complaints, we need to examine per capita/per resident complaints\n",
    "- This following query takes the total complaints in the dataset and divides by borough level populatin data\n",
    "- Although Manhattan has more complaints in pure count, the Bronx has more complaints per resident\n",
    "- Due to this, the Bronx is chosen as the borough to focus on in terms of allocating resources"
   ]
  },
  {
   "cell_type": "code",
   "execution_count": null,
   "id": "a07a0116-7d2a-4859-8de8-878aa1edecdb",
   "metadata": {},
   "outputs": [],
   "source": [
    "prop_total_by_borough = requests_db.get_total_calls_by_borough()\n",
    "prop_total_by_borough"
   ]
  },
  {
   "cell_type": "markdown",
   "id": "4fdbdf74-88ad-47f0-94e7-8588a7c6b8cb",
   "metadata": {},
   "source": [
    "### Examine boroughs with top complaints\n",
    "- This following query and visualizations looks at the top 2 complaints per borough\n",
    "- Again noise is a consistent issue regardless of borough\n",
    "- Slicing the data in different ways comes to the same conclusion that noise is a significant issue which should be focused on"
   ]
  },
  {
   "cell_type": "code",
   "execution_count": null,
   "id": "66b08cd4-9b63-4446-857b-ad9be88d50a7",
   "metadata": {
    "scrolled": true
   },
   "outputs": [],
   "source": [
    "top_comaplaints_by_borough = requests_db.get_top_complaint_by_borogh()\n",
    "top_comaplaints_by_borough"
   ]
  },
  {
   "cell_type": "code",
   "execution_count": null,
   "id": "289c62bf-96bd-4485-b361-051326ba4db2",
   "metadata": {},
   "outputs": [],
   "source": [
    "pivot = top_comaplaints_by_borough.pivot(index=\"borough\", columns=\"complaint_type\", values=\"complaints_per_capita\")\n",
    "pivot.plot(kind=\"bar\", stacked=True, figsize=(10,4))\n",
    "\n",
    "plt.title(\"Top 2 Complaints per Borough (by proportion)\")\n",
    "plt.ylabel(\"Complaints per capita\")\n",
    "plt.xlabel(\"Borough\")\n",
    "plt.legend(title=\"Complaint Type\")\n",
    "plt.show()"
   ]
  },
  {
   "cell_type": "markdown",
   "id": "f839e127-f5f9-4623-abc4-c45660e50a56",
   "metadata": {},
   "source": [
    "### Proportion complaints by year + borough\n",
    "- The next two visualizations demonstrates how 311 calls have been changing over time (as a per capita measurement)\n",
    "- With the exceptin of Staten Island, 311 calls have been increasing over the last few years\n",
    "- The Bronx in particular has seen an uptick in recent years"
   ]
  },
  {
   "cell_type": "code",
   "execution_count": null,
   "id": "7a7c002b-e5c9-43a5-9bc0-52c9ab285266",
   "metadata": {},
   "outputs": [],
   "source": [
    "complaint_ts = requests_db.get_complaint_time_series()\n",
    "complaint_ts.pivot_table(index='year',columns='borough', values='complaints_per_capita').plot(figsize=(10,5), title='Proportion of calls per year');"
   ]
  },
  {
   "cell_type": "code",
   "execution_count": null,
   "id": "2aa8d92e-55ff-4df5-961e-22009ea11057",
   "metadata": {},
   "outputs": [],
   "source": [
    "pivot = complaint_ts.pivot(index=\"year\", columns=\"borough\", values=\"complaints_per_capita\")\n",
    "\n",
    "ax = pivot.plot(kind=\"bar\", stacked=True, figsize=(10, 5))\n",
    "\n",
    "ax.set_ylabel(\"Complaints per capita\")\n",
    "ax.set_xlabel(\"Year\")\n",
    "ax.set_title(\"Proportion of All Complaints: Year and Borough\")\n",
    "ax.legend(title=\"Borough\");\n"
   ]
  },
  {
   "cell_type": "markdown",
   "id": "b63f81c3-2e6e-4b58-8b91-5e0b8cc24f05",
   "metadata": {},
   "source": [
    "### Density map of complaints\n",
    "- This density map gives a high level view of the concentration of 311 calls\n",
    "- There are many calls across the entire city, but Staten Island is relatively lower whereas the Bronx and Manhattan have more calls"
   ]
  },
  {
   "cell_type": "code",
   "execution_count": null,
   "id": "fc752898-c9dd-47c8-928a-f4ccd4df515a",
   "metadata": {},
   "outputs": [],
   "source": [
    "lat_long_data = requests_db.connection.execute('SELECT latitude, longitude FROM nyc311;').df()\n",
    "lat_long_data = lat_long_data[lat_long_data.latitude > 1]"
   ]
  },
  {
   "cell_type": "code",
   "execution_count": null,
   "id": "79a56a9b-2e24-4b35-bfa6-4c7235fabffc",
   "metadata": {},
   "outputs": [],
   "source": [
    "plt.figure(figsize=(10,8))\n",
    "plt.hexbin(lat_long_data[\"longitude\"], lat_long_data[\"latitude\"], gridsize=300, cmap=\"inferno\", bins=\"log\")\n",
    "plt.colorbar(label=\"log(count)\")\n",
    "plt.title(\"NYC 311 Complaints Density (All years)\")\n",
    "plt.xlabel(\"Longitude\")\n",
    "plt.ylabel(\"Latitude\")\n",
    "plt.show()"
   ]
  },
  {
   "cell_type": "markdown",
   "id": "c8536cbe-b51b-4949-b453-71075550d0e2",
   "metadata": {},
   "source": [
    "<h1 style=\"background-color:#d1cfcf;padding-top:20px;padding-bottom:20px;padding-left:5px\">EDA - the Bronx + noise complaints</h1>\n",
    "This following section focuses more specifically on the Bronx as it is the borough with the most complaints per person."
   ]
  },
  {
   "cell_type": "markdown",
   "id": "f9b2ed8c-03c6-496a-8d22-40074fdbff29",
   "metadata": {},
   "source": [
    "### 1. Noise complaints over time\n",
    "- The complaint count seems to follow a cyclical pattern, my assumption is that there are peaks during the summer\n",
    "- Noise complaints have also been increasing over time, which aligns with the general increase in calls across the city"
   ]
  },
  {
   "cell_type": "code",
   "execution_count": null,
   "id": "46b77ec0-fdac-4f4a-8693-0ed72c6a7fea",
   "metadata": {},
   "outputs": [],
   "source": [
    "noise_ts_year_month_all = requests_db.get_bronx_timeseries()\n",
    "noise_ts_year_month_all.set_index('created_date_trunc').sort_index()['complaints_per_capita'].plot(kind='line', title='Noise complaint per capita', ylabel='per capita', figsize=(12,4));\n",
    "\n"
   ]
  },
  {
   "cell_type": "markdown",
   "id": "0a68274e-7b9f-4ba0-ba84-b6014d15813b",
   "metadata": {},
   "source": [
    "### 2. Identify anomalies \n",
    "- In order to see where these spikes happen, we can calculate a Z-score and see which values fall two standard deviations outside the mean (these are anomalies)\n",
    "- Finding patterns with anomalies aids in the feature selection process\n",
    "- This detection process sees that the weekends (days 5 and 6 <--> Sat and Sun) account for the vast majority of anomalies"
   ]
  },
  {
   "cell_type": "code",
   "execution_count": null,
   "id": "f5fcf9ce-384f-403c-a573-0ea200116eee",
   "metadata": {},
   "outputs": [],
   "source": [
    "noise_ts_year_month_all.loc[:, 'day_of_week'] = noise_ts_year_month_all['created_date_trunc'].dt.dayofweek\n",
    "noise_ts_year_month_all['year'] = noise_ts_year_month_all['created_date_trunc'].dt.year\n",
    "noise_ts_year_month_all['zscore'] = noise_ts_year_month_all.groupby('year')['complaints_per_capita'].transform(lambda x: zscore(x))\n",
    "anomalies = noise_ts_year_month_all[noise_ts_year_month_all['zscore'] > 2].copy()\n",
    "\n",
    "noise_ts_year_month_all['weekend'] = noise_ts_year_month_all['day_of_week'].isin([5,6])"
   ]
  },
  {
   "cell_type": "code",
   "execution_count": null,
   "id": "f8312943-cf6d-49f8-ac27-9814701e1a85",
   "metadata": {},
   "outputs": [],
   "source": [
    "(anomalies.day_of_week.value_counts() / anomalies.day_of_week.value_counts().sum()).rename('proportion_of_requests').to_frame()"
   ]
  },
  {
   "cell_type": "markdown",
   "id": "01af4839-2064-4b69-beef-8416d2d649f2",
   "metadata": {},
   "source": [
    "### 2. Impact of seasons:\n",
    "- Assume that summers are June, July, August, and September\n",
    "- Logically, summers are busy times so there could be more noise complaints\n",
    "- When calculating how many of the 311 calls occur in the summer, we see that they account for 46% of the total complaints\n",
    "- This indicates that a flag identifying summer or not summer could be a useful feature"
   ]
  },
  {
   "cell_type": "code",
   "execution_count": null,
   "id": "776aee21-4cd9-4b77-8ef7-1efcfb42087e",
   "metadata": {},
   "outputs": [],
   "source": [
    "noise_ts_year_month_all['month'] = noise_ts_year_month_all['created_date_trunc'].dt.month\n",
    "noise_ts_year_month_all['summer'] = noise_ts_year_month_all['month'].isin([6,7,8,9])"
   ]
  },
  {
   "cell_type": "code",
   "execution_count": null,
   "id": "a36ee173-b5de-49d8-85a4-8f3f4715c3ed",
   "metadata": {},
   "outputs": [],
   "source": [
    "(noise_ts_year_month_all.groupby('month')[['complaint_count']].sum() / noise_ts_year_month_all.groupby('month')[['complaint_count']].sum().sum()).rename(columns={'proportion_of_requests':'proportion_of_requests'}).sort_values(by='complaint_count',ascending=False)\n"
   ]
  },
  {
   "cell_type": "code",
   "execution_count": null,
   "id": "eed270e5-7b6d-4b94-a578-7085573873e8",
   "metadata": {
    "scrolled": true
   },
   "outputs": [],
   "source": [
    "plt.figure(figsize=(10,5))\n",
    "plt.scatter(noise_ts_year_month_all['created_date_trunc'], \n",
    "    noise_ts_year_month_all['complaint_count'],\n",
    "    c=noise_ts_year_month_all['summer'].map({True: 'red', False: 'lightblue'}),\n",
    "    alpha=0.7\n",
    ")\n",
    "plt.title(\"Noise Complaints - summer highlighted\")\n",
    "plt.xlabel(\"Incident created date\")\n",
    "plt.ylabel(\"Complaint count\")\n",
    "plt.show()"
   ]
  },
  {
   "cell_type": "markdown",
   "id": "210e0c4c-b525-4c7c-a265-78767f7da5e6",
   "metadata": {},
   "source": [
    "### 3. Time of day\n",
    "- Another hypothesis is that there might be more noise complaints at night, as people tend to take more issue with noise at night\n",
    "- This is confimed to be the case, as 73.5% of calls occur at night"
   ]
  },
  {
   "cell_type": "code",
   "execution_count": null,
   "id": "e039f719-556a-411e-9a94-6f292b7c0d4d",
   "metadata": {},
   "outputs": [],
   "source": [
    "noise_ts_granular = requests_db.get_bronx_ts_granular()"
   ]
  },
  {
   "cell_type": "code",
   "execution_count": null,
   "id": "289e3116-1c4c-42c3-bfab-4539fc605f31",
   "metadata": {},
   "outputs": [],
   "source": [
    "def categorical_time_of_day(hour):\n",
    "    if 4 <= hour < 12:\n",
    "        return 'morning'\n",
    "    elif 12 <= hour < 17:\n",
    "        return 'afternoon'\n",
    "    else:\n",
    "        return 'night'\n",
    "\n",
    "noise_ts_granular['time_of_day'] = noise_ts_granular['created_date_trunc'].dt.hour.apply(categorical_time_of_day)"
   ]
  },
  {
   "cell_type": "code",
   "execution_count": null,
   "id": "eb102665-b1bf-427c-89a0-2f97bb0151c4",
   "metadata": {},
   "outputs": [],
   "source": [
    "noise_ts_granular.groupby('time_of_day')[['complaint_count']].sum().sort_values(by='complaint_count',ascending=False) / noise_ts_granular.groupby('time_of_day')[['complaint_count']].sum().sort_values(by='complaint_count',ascending=False).sum()"
   ]
  },
  {
   "cell_type": "markdown",
   "id": "527b6afe-1ecd-4bdf-8447-253149e3e6fb",
   "metadata": {},
   "source": [
    "### 4. Lag\n",
    "- Do previous days inform future days?\n",
    "- The ACF plot below shows that the correlation spikes in a cyclical pattern (7 days)\n",
    "- A 1 day lag is also significant in terms of correlation\n",
    "- Including a lag feature could be useful as well since we see this pattern"
   ]
  },
  {
   "cell_type": "code",
   "execution_count": null,
   "id": "3845b50d-e31f-41a7-a79e-d6f3069bf232",
   "metadata": {
    "scrolled": true
   },
   "outputs": [],
   "source": [
    "autocorr = noise_ts_year_month_all.set_index('created_date_trunc').sort_index()[['complaint_count']]\n",
    "\n",
    "fig, axes = plt.subplots(1, 1, figsize=(10, 4))\n",
    "plot_acf(autocorr.dropna(), lags=30, ax=axes)\n",
    "axes.set_title(\"Autocorrelation of Daily Noise Complaint Counts\")\n",
    "axes.set_xticks(np.arange(1,31,2))\n",
    "plt.show();"
   ]
  },
  {
   "cell_type": "markdown",
   "id": "3ff0cf6e-dddd-4e58-9a39-42a8f2f94a21",
   "metadata": {},
   "source": [
    "<h1 style=\"background-color:#d1cfcf;padding-top:20px;padding-bottom:20px;padding-left:5px\">Predictive Model</h1>\n"
   ]
  },
  {
   "cell_type": "markdown",
   "id": "17e6973f-3b7b-4ef0-b033-6455015924b3",
   "metadata": {},
   "source": [
    "- This is a logistic regression model which predicts periods with a significant noise complaint call volume. \n",
    "- \"Significant\" is defined as having a count in the 70th percentile in order to capture a meaningful number of days as significant\n",
    "  - The threshold is calculated on a per year basis because the overall averages change over time\n",
    "- Based on the previous data exploration, the features are:\n",
    "  - Summer (1 or 0)\n",
    "  - Weekend (1 or 0)\n",
    "  - Time of day (morning, afternoon, evening) - one hot encoded\n",
    "  - Count of complaints - 7 day lag\n",
    "  "
   ]
  },
  {
   "cell_type": "code",
   "execution_count": null,
   "id": "c51185cb-2d9e-417b-b419-b5fd301ae9f7",
   "metadata": {},
   "outputs": [],
   "source": [
    "model_data = classification_model.set_up_features(noise_ts_granular, noise_ts_year_month_all)"
   ]
  },
  {
   "cell_type": "code",
   "execution_count": null,
   "id": "0c59adff-cfd4-4404-8926-7f63538e32d0",
   "metadata": {},
   "outputs": [],
   "source": [
    "model_data = classification_model.define_classes(model_data)"
   ]
  },
  {
   "cell_type": "code",
   "execution_count": null,
   "id": "142db206-b031-4879-94ae-38d50977d7fe",
   "metadata": {},
   "outputs": [],
   "source": [
    "model_data.high_complaint_period.value_counts()"
   ]
  },
  {
   "cell_type": "markdown",
   "id": "b3da73be-961e-4067-90ab-379de285cbad",
   "metadata": {},
   "source": [
    "#### Create training and test set\n",
    "- The training and test set is divided based on time since this is a time series set (so we cannot shuffle randomly)"
   ]
  },
  {
   "cell_type": "code",
   "execution_count": null,
   "id": "f08e0667-766d-4c14-8c30-79858946c1f8",
   "metadata": {},
   "outputs": [],
   "source": [
    "x_train, x_test, y_train, y_test = classification_model.get_train_and_test_data(model_data)"
   ]
  },
  {
   "cell_type": "markdown",
   "id": "a60fb501-2c15-400a-8c33-57858c9082f0",
   "metadata": {},
   "source": [
    "#### Ensure there are enough values for each class (high complaint period vs. normal)\n",
    "- High complaint periods are not very common, so we need to make sure the samples consider both classes"
   ]
  },
  {
   "cell_type": "code",
   "execution_count": null,
   "id": "17d0f44d-3792-4792-824a-deb1c0eb9a8a",
   "metadata": {},
   "outputs": [],
   "source": [
    "print(y_train.value_counts(normalize=True))\n",
    "print(y_test.value_counts(normalize=True))"
   ]
  },
  {
   "cell_type": "markdown",
   "id": "345fa778-9109-435d-a7a3-3063ad281263",
   "metadata": {},
   "source": [
    "### Model results:\n",
    "- After fitting the model, I find the optimal probability threshold\n",
    "- This value is determined by finding the threshold which produces the best precision and recall values\n",
    "- This threshold is around 0.38\n",
    "- The precision is 0.61 and the recall is 0.78\n",
    "  - The recall is quite good, but the lower precision indicates that the model over classifies high complaint periods\n",
    "  - I would argue that over classification in this sense is not harmful, as there will likely still be noise complaints that can be dealt with on those days. However, this could not be the most optimal use of resources"
   ]
  },
  {
   "cell_type": "code",
   "execution_count": null,
   "id": "36bdd110-df64-4988-b08f-27101ce7fb57",
   "metadata": {},
   "outputs": [],
   "source": [
    "model = LogisticRegression()\n",
    "model.fit(x_train, y_train)\n",
    "\n",
    "y_pred = model.predict(x_test)\n",
    "y_probs = model.predict_proba(x_test)[:, 1]"
   ]
  },
  {
   "cell_type": "code",
   "execution_count": null,
   "id": "cfbed63f-2282-496d-a9d6-1ef7ae72eff0",
   "metadata": {},
   "outputs": [],
   "source": [
    "model, y_pred, y_probs = classification_model.fit_model_and_predict(x_train, y_train, x_test)"
   ]
  },
  {
   "cell_type": "code",
   "execution_count": null,
   "id": "1d7cb38e-a887-45fb-837c-272673463109",
   "metadata": {},
   "outputs": [],
   "source": [
    "precision, recall, thresholds = precision_recall_curve(y_test, y_probs)\n",
    "f1 = (2 * precision * recall) / (precision + recall)\n",
    "best_thresh_index = f1.argmax()\n",
    "best_threshold = thresholds[best_thresh_index]  \n",
    "print(f\"The best threshold is ---> {round(best_threshold, 5)}\")\n",
    "print(f\"precision = {round(precision[best_thresh_index], 2)}\")\n",
    "print(f\"recall = {round(recall[best_thresh_index], 2)}\")\n",
    "\n",
    "\n",
    "y_pred = (y_probs >= best_threshold).astype(int)\n",
    "print(classification_report(y_test, y_pred))"
   ]
  },
  {
   "cell_type": "markdown",
   "id": "43f1dc5c-0ce0-4640-b494-e0469314db0c",
   "metadata": {},
   "source": [
    "#### Confusion matrix\n",
    "- The matrix below shows that the model does a good job of identifying high complaint days which were actually considered to have significant call volume "
   ]
  },
  {
   "cell_type": "code",
   "execution_count": null,
   "id": "8ddc6b40-8967-489e-9fe9-cb4362f052dc",
   "metadata": {},
   "outputs": [],
   "source": [
    "from sklearn.metrics import confusion_matrix, ConfusionMatrixDisplay\n",
    "import matplotlib.pyplot as plt\n",
    "\n",
    "cm = confusion_matrix(y_test, y_pred)\n",
    "disp = ConfusionMatrixDisplay(cm, display_labels=['Normal', 'High complaint day'])\n",
    "disp.plot(cmap='Reds')\n",
    "plt.title(\"Confusion Matrix - Noise Complaint Classification\")\n",
    "plt.show()"
   ]
  },
  {
   "cell_type": "markdown",
   "id": "e5167f39-3aa8-4f85-afa6-5f550647d2e1",
   "metadata": {},
   "source": [
    "#### Precision / recall curve\n",
    "- The below graph shows how the precision and recall change for the various threshold values\n",
    "- Recall decreases significantly the higher the threshold is "
   ]
  },
  {
   "cell_type": "code",
   "execution_count": null,
   "id": "08765396-a063-44a9-92fe-920c22e418d6",
   "metadata": {},
   "outputs": [],
   "source": [
    "import matplotlib.pyplot as plt\n",
    "\n",
    "plt.figure(figsize=(8,5))\n",
    "plt.plot(thresholds, precision[:-1], label='Precision')\n",
    "plt.plot(thresholds, recall[:-1], label='Recall')\n",
    "plt.axvline(best_threshold, color='red', linestyle=':', label=f'Best Threshold = {best_threshold:.2f}')\n",
    "plt.xlabel(\"Probability Threshold\")\n",
    "plt.ylabel(\"Score\")\n",
    "plt.legend()\n",
    "plt.title(\"Precision Recall vs Probability Threshold\")\n",
    "plt.show()"
   ]
  },
  {
   "cell_type": "markdown",
   "id": "83c29432-1fb7-4ceb-b97b-f44e75b478e7",
   "metadata": {},
   "source": [
    "#### ROC curve\n",
    "- The Receiver Operating Characteristic (ROC) curve demonstrates how good the model is at separating normal days from high complaint days\n",
    "- The AUC (area under the curve) directly represents this idea, as a value of 1 is a perfect classifier.\n",
    "- A trivial classifier (orange line below) would have an AUC of .50, so our model at least performs better than a trivial model\n"
   ]
  },
  {
   "cell_type": "code",
   "execution_count": null,
   "id": "a3c64560-627f-4e8f-b0d8-ea03de0113d4",
   "metadata": {},
   "outputs": [],
   "source": [
    "from sklearn.metrics import roc_curve, roc_auc_score\n",
    "import matplotlib.pyplot as plt\n",
    "\n",
    " \n",
    "false_pos, true_pos, thresholds = roc_curve(y_test, y_probs)\n",
    "roc_auc = roc_auc_score(y_test, y_probs)\n",
    "\n",
    "plt.figure(figsize=(8,6))\n",
    "plt.plot(false_pos, true_pos, label=f\"ROC curve (AUC = {roc_auc:.3f})\")\n",
    "plt.plot([0, 1], [0, 1], label='Trivial classifier')\n",
    "plt.xlabel(\"False Positive Rate\")\n",
    "plt.ylabel(\"True Positive Rate (Recall)\")\n",
    "plt.title(\"ROC Curve - High Complaint Classification\")\n",
    "plt.legend()\n",
    "plt.grid(True)\n",
    "plt.show()"
   ]
  },
  {
   "cell_type": "markdown",
   "id": "14627c62-8f5b-4088-8733-53f5dbfb057f",
   "metadata": {},
   "source": [
    "#### Feature importance\n",
    "- We can examine the coefficients to see how important the features are\n",
    "- The coefficients are the log odds in a logistic regression\n",
    "- A coefficient large in magnitude means it has a more significant impact\n",
    "- A positive coefficient means that the feature increases the likelihood of a high complaint day\n",
    "- We can see that nighttime, weekends, and summer all have a positive effect on high complaint days"
   ]
  },
  {
   "cell_type": "code",
   "execution_count": null,
   "id": "e921a673-07ba-49df-a930-cb7af6c01a6e",
   "metadata": {},
   "outputs": [],
   "source": [
    "feature_names = x_test.columns\n",
    "coefficients = model.coef_[0]\n",
    "\n",
    "importance_df = pd.DataFrame({ \"feature\": feature_names, \"coefficient\": coefficients})\n",
    "\n",
    "plt.figure(figsize=(8, 5))\n",
    "plt.barh(importance_df[\"feature\"], importance_df[\"coefficient\"], color=\"steelblue\")\n",
    "plt.xlabel(\"Coefficient value (log-odds)\")\n",
    "plt.title(\"Feature Importance — Logistic Regression\");\n"
   ]
  },
  {
   "cell_type": "markdown",
   "id": "e399d3cb-540e-4218-a1f3-184f3d997d4e",
   "metadata": {},
   "source": [
    "### Save model to pickle\n",
    "- The below code saves the model and input data so that it does not need to be re-run "
   ]
  },
  {
   "cell_type": "code",
   "execution_count": null,
   "id": "7f0ce661-3428-4a26-b1d0-20d8ff305afb",
   "metadata": {},
   "outputs": [],
   "source": [
    "import pickle\n",
    "\n",
    "model_pickle = {\n",
    "    \"model\": model, \n",
    "    \"x_data\": [x_train, x_test],\n",
    "    \"y_data\": [y_train, y_test, y_pred],\n",
    "    \"features\": list(x_test.columns),  \n",
    "    \"threshold_used\": best_threshold,             \n",
    "    \"results\": {\n",
    "        \"roc_auc\": roc_auc_score(y_test, y_probs),\n",
    "        \"classification_report\": classification_report(y_test, (y_probs >= best_threshold).astype(int), zero_division=0, output_dict=True)\n",
    "    },\n",
    "    \"input_dataset\":noise_ts_granular,\n",
    "    \"ts_plot\":noise_ts_year_month_all,\n",
    "    \"lat_long_data\":lat_long_data,\n",
    "    \"all_borough_data\":complaint_ts\n",
    "}\n",
    "\n",
    "\n",
    "model_pickle = {\n",
    "    \"model\": model, \n",
    "    \"x_data\": [x_train, x_test],\n",
    "    \"y_data\": [y_train, y_test, y_pred],\n",
    "    \"features\": list(x_test.columns),  \n",
    "    \"threshold_used\": best_threshold,             \n",
    "    \"results\": {\n",
    "        \"roc_auc\": roc_auc_score(y_test, y_probs),\n",
    "        \"classification_report\": classification_report(y_test, (y_probs >= best_threshold).astype(int), zero_division=0, output_dict=True)\n",
    "    }\n",
    "}\n",
    "\n",
    "from pathlib import Path\n",
    "\n",
    "file_path = Path(\"model_pickle.pkl\")\n",
    "\n",
    "if file_path.exists():\n",
    "    print('Model pickle already exists')\n",
    "else:\n",
    "    print(\"Saving model pickle\")\n",
    "    with open(\"model_pickle.pkl\", \"wb\") as f:\n",
    "        pickle.dump(model_pickle, f)"
   ]
  },
  {
   "cell_type": "code",
   "execution_count": null,
   "id": "56b72bbb-948c-4987-a6c8-6aa994966584",
   "metadata": {},
   "outputs": [],
   "source": []
  }
 ],
 "metadata": {
  "kernelspec": {
   "display_name": "Python (hbc_assessment)",
   "language": "python",
   "name": "hbc_assessment"
  },
  "language_info": {
   "codemirror_mode": {
    "name": "ipython",
    "version": 3
   },
   "file_extension": ".py",
   "mimetype": "text/x-python",
   "name": "python",
   "nbconvert_exporter": "python",
   "pygments_lexer": "ipython3",
   "version": "3.13.5"
  }
 },
 "nbformat": 4,
 "nbformat_minor": 5
}
